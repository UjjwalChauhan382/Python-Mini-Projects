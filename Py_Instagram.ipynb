{
 "cells": [
  {
   "cell_type": "code",
   "execution_count": 12,
   "id": "51af380c",
   "metadata": {},
   "outputs": [
    {
     "name": "stdout",
     "output_type": "stream",
     "text": [
      "Requirement already satisfied: instagramy in c:\\users\\ujjwa\\appdata\\local\\programs\\python\\python310\\lib\\site-packages (4.5)\n"
     ]
    }
   ],
   "source": [
    "!pip install instagramy"
   ]
  },
  {
   "cell_type": "code",
   "execution_count": 13,
   "id": "789d7cab",
   "metadata": {},
   "outputs": [],
   "source": [
    "from instagramy import InstagramUser\n"
   ]
  },
  {
   "cell_type": "code",
   "execution_count": 14,
   "id": "b5058ef0",
   "metadata": {},
   "outputs": [
    {
     "ename": "KeyError",
     "evalue": "'entry_data'",
     "output_type": "error",
     "traceback": [
      "\u001b[1;31m---------------------------------------------------------------------------\u001b[0m",
      "\u001b[1;31mKeyError\u001b[0m                                  Traceback (most recent call last)",
      "Input \u001b[1;32mIn [14]\u001b[0m, in \u001b[0;36m<cell line: 1>\u001b[1;34m()\u001b[0m\n\u001b[1;32m----> 1\u001b[0m user \u001b[38;5;241m=\u001b[39m \u001b[43mInstagramUser\u001b[49m\u001b[43m(\u001b[49m\u001b[38;5;124;43m\"\u001b[39;49m\u001b[38;5;124;43makshitmadan_\u001b[39;49m\u001b[38;5;124;43m\"\u001b[39;49m\u001b[43m)\u001b[49m\n",
      "File \u001b[1;32mc:\\Users\\ujjwa\\AppData\\Local\\Programs\\Python\\Python310\\lib\\site-packages\\instagramy\\InstagramUser.py:63\u001b[0m, in \u001b[0;36mInstagramUser.__init__\u001b[1;34m(self, username, sessionid, from_cache)\u001b[0m\n\u001b[0;32m     60\u001b[0m \u001b[38;5;28;01melse\u001b[39;00m:\n\u001b[0;32m     61\u001b[0m     data \u001b[38;5;241m=\u001b[39m \u001b[38;5;28mself\u001b[39m\u001b[38;5;241m.\u001b[39mget_json()\n\u001b[0;32m     62\u001b[0m     cache\u001b[38;5;241m.\u001b[39mmake_cache(\n\u001b[1;32m---> 63\u001b[0m         username, \u001b[43mdata\u001b[49m\u001b[43m[\u001b[49m\u001b[38;5;124;43m\"\u001b[39;49m\u001b[38;5;124;43mentry_data\u001b[39;49m\u001b[38;5;124;43m\"\u001b[39;49m\u001b[43m]\u001b[49m[\u001b[38;5;124m\"\u001b[39m\u001b[38;5;124mProfilePage\u001b[39m\u001b[38;5;124m\"\u001b[39m][\u001b[38;5;241m0\u001b[39m][\u001b[38;5;124m\"\u001b[39m\u001b[38;5;124mgraphql\u001b[39m\u001b[38;5;124m\"\u001b[39m][\u001b[38;5;124m\"\u001b[39m\u001b[38;5;124muser\u001b[39m\u001b[38;5;124m\"\u001b[39m]\n\u001b[0;32m     64\u001b[0m     )\n\u001b[0;32m     65\u001b[0m     \u001b[38;5;28;01mtry\u001b[39;00m:\n\u001b[0;32m     66\u001b[0m         \u001b[38;5;28mself\u001b[39m\u001b[38;5;241m.\u001b[39muser_data \u001b[38;5;241m=\u001b[39m data[\u001b[38;5;124m\"\u001b[39m\u001b[38;5;124mentry_data\u001b[39m\u001b[38;5;124m\"\u001b[39m][\u001b[38;5;124m\"\u001b[39m\u001b[38;5;124mProfilePage\u001b[39m\u001b[38;5;124m\"\u001b[39m][\u001b[38;5;241m0\u001b[39m][\u001b[38;5;124m\"\u001b[39m\u001b[38;5;124mgraphql\u001b[39m\u001b[38;5;124m\"\u001b[39m][\u001b[38;5;124m\"\u001b[39m\u001b[38;5;124muser\u001b[39m\u001b[38;5;124m\"\u001b[39m]\n",
      "\u001b[1;31mKeyError\u001b[0m: 'entry_data'"
     ]
    }
   ],
   "source": [
    "user = InstagramUser(\"akshitmadan_\")\n"
   ]
  },
  {
   "cell_type": "code",
   "execution_count": 15,
   "id": "07bffffe",
   "metadata": {},
   "outputs": [
    {
     "ename": "NameError",
     "evalue": "name 'user' is not defined",
     "output_type": "error",
     "traceback": [
      "\u001b[1;31m---------------------------------------------------------------------------\u001b[0m",
      "\u001b[1;31mNameError\u001b[0m                                 Traceback (most recent call last)",
      "Input \u001b[1;32mIn [15]\u001b[0m, in \u001b[0;36m<cell line: 1>\u001b[1;34m()\u001b[0m\n\u001b[1;32m----> 1\u001b[0m \u001b[38;5;28mprint\u001b[39m(\u001b[38;5;124m'\u001b[39m\u001b[38;5;124mUserName = \u001b[39m\u001b[38;5;124m'\u001b[39m,\u001b[43muser\u001b[49m\u001b[38;5;241m.\u001b[39musername)\n\u001b[0;32m      2\u001b[0m \u001b[38;5;28mprint\u001b[39m(\u001b[38;5;124m'\u001b[39m\u001b[38;5;124mFollowers = \u001b[39m\u001b[38;5;124m'\u001b[39m,user\u001b[38;5;241m.\u001b[39mnumber_of_followers)\n\u001b[0;32m      3\u001b[0m \u001b[38;5;28mprint\u001b[39m(\u001b[38;5;124m'\u001b[39m\u001b[38;5;124mFollowing = \u001b[39m\u001b[38;5;124m'\u001b[39m,user\u001b[38;5;241m.\u001b[39mnumber_of_followings)\n",
      "\u001b[1;31mNameError\u001b[0m: name 'user' is not defined"
     ]
    }
   ],
   "source": [
    "print('UserName = ',user.username)\n",
    "print('Followers = ',user.number_of_followers)\n",
    "print('Following = ',user.number_of_followings)\n",
    "print('Mutual Followings = ',user.no_of_mutual_follower)\n",
    "print('No. of Posts = ',user.number_of_posts)\n",
    "print('is Private = ',user.is_private)"
   ]
  },
  {
   "cell_type": "code",
   "execution_count": 16,
   "id": "51da9dae",
   "metadata": {},
   "outputs": [
    {
     "name": "stdout",
     "output_type": "stream",
     "text": [
      "Collecting instaloader\n",
      "  Downloading instaloader-4.9.6.tar.gz (60 kB)\n",
      "     ---------------------------------------- 60.5/60.5 kB 1.1 MB/s eta 0:00:00\n",
      "  Installing build dependencies: started\n",
      "  Installing build dependencies: finished with status 'done'\n",
      "  Getting requirements to build wheel: started\n",
      "  Getting requirements to build wheel: finished with status 'done'\n",
      "  Preparing metadata (pyproject.toml): started\n",
      "  Preparing metadata (pyproject.toml): finished with status 'done'\n",
      "Requirement already satisfied: requests>=2.4 in c:\\users\\ujjwa\\appdata\\local\\programs\\python\\python310\\lib\\site-packages (from instaloader) (2.28.2)\n",
      "Requirement already satisfied: charset-normalizer<4,>=2 in c:\\users\\ujjwa\\appdata\\local\\programs\\python\\python310\\lib\\site-packages (from requests>=2.4->instaloader) (3.0.1)\n",
      "Requirement already satisfied: idna<4,>=2.5 in c:\\users\\ujjwa\\appdata\\local\\programs\\python\\python310\\lib\\site-packages (from requests>=2.4->instaloader) (3.4)\n",
      "Requirement already satisfied: urllib3<1.27,>=1.21.1 in c:\\users\\ujjwa\\appdata\\local\\programs\\python\\python310\\lib\\site-packages (from requests>=2.4->instaloader) (1.26.14)\n",
      "Requirement already satisfied: certifi>=2017.4.17 in c:\\users\\ujjwa\\appdata\\local\\programs\\python\\python310\\lib\\site-packages (from requests>=2.4->instaloader) (2022.12.7)\n",
      "Building wheels for collected packages: instaloader\n",
      "  Building wheel for instaloader (pyproject.toml): started\n",
      "  Building wheel for instaloader (pyproject.toml): finished with status 'done'\n",
      "  Created wheel for instaloader: filename=instaloader-4.9.6-py3-none-any.whl size=62342 sha256=4b021f12fcbd68d280f56b9a6ef599ed82739b89a70962e6b5a8c2c69ca0b312\n",
      "  Stored in directory: c:\\users\\ujjwa\\appdata\\local\\pip\\cache\\wheels\\b4\\14\\ec\\7606499df2201abd28a19573fe2a3488639792d46aad5600f3\n",
      "Successfully built instaloader\n",
      "Installing collected packages: instaloader\n",
      "Successfully installed instaloader-4.9.6\n"
     ]
    }
   ],
   "source": [
    "!pip install instaloader"
   ]
  },
  {
   "cell_type": "code",
   "execution_count": 20,
   "id": "028c6af1",
   "metadata": {},
   "outputs": [
    {
     "name": "stdout",
     "output_type": "stream",
     "text": [
      "<Profile virat.kohli (2094200507)>\n"
     ]
    }
   ],
   "source": [
    "import instaloader\n",
    " \n",
    "# Creating an instance of the Instaloader class\n",
    "bot = instaloader.Instaloader()\n",
    " \n",
    "# Loading the profile from an Instagram handle\n",
    "profile = instaloader.Profile.from_username(bot.context, 'virat.kohli')\n",
    "print(profile)"
   ]
  },
  {
   "cell_type": "markdown",
   "id": "eb91dc28",
   "metadata": {},
   "source": [
    "## Extracting Data From Profile"
   ]
  },
  {
   "cell_type": "code",
   "execution_count": 21,
   "id": "ee4a6866",
   "metadata": {},
   "outputs": [
    {
     "name": "stdout",
     "output_type": "stream",
     "text": [
      "Username:  virat.kohli\n",
      "User ID:  2094200507\n",
      "Number of Posts:  1612\n",
      "Followers Count:  252797523\n",
      "Following Count:  279\n",
      "Bio:  Carpediem!\n",
      "External URL:  http://one8.com/\n"
     ]
    }
   ],
   "source": [
    "import instaloader\n",
    "import pandas as pd\n",
    " \n",
    "# Creating an instance of the Instaloader class\n",
    "bot = instaloader.Instaloader()\n",
    " \n",
    "# Loading a profile from an Instagram handle\n",
    "profile = instaloader.Profile.from_username(bot.context, 'virat.kohli')\n",
    "print(\"Username: \", profile.username)\n",
    "print(\"User ID: \", profile.userid)\n",
    "print(\"Number of Posts: \", profile.mediacount)\n",
    "print(\"Followers Count: \", profile.followers)\n",
    "print(\"Following Count: \", profile.followees)\n",
    "print(\"Bio: \", profile.biography)\n",
    "print(\"External URL: \", profile.external_url)"
   ]
  },
  {
   "cell_type": "markdown",
   "id": "b4476d0d",
   "metadata": {},
   "source": [
    "## Extracting Emails From Bio"
   ]
  },
  {
   "cell_type": "code",
   "execution_count": 24,
   "id": "ffb79176",
   "metadata": {},
   "outputs": [
    {
     "name": "stdout",
     "output_type": "stream",
     "text": [
      "Username:  virat.kohli\n",
      "Bio:  Carpediem!\n",
      "Emails extracted from the bio:\n",
      "[]\n"
     ]
    }
   ],
   "source": [
    "import instaloader\n",
    "import re\n",
    "\n",
    "# Creating an instance of Instaloader class\n",
    "bot = instaloader.Instaloader()\n",
    "profile = instaloader.Profile.from_username(bot.context, 'virat.kohli')\n",
    "print(\"Username: \", profile.username)\n",
    "print(\"Bio: \", profile.biography)\n",
    "emails = re.findall(r\"\\b[A-Za-z0-9._%+-]+@[A-Za-z0-9.-]+\\.[A-Z|a-z]{2,}\\b\", profile.biography)\n",
    "print(\"Emails extracted from the bio:\")\n",
    "print(emails)"
   ]
  },
  {
   "cell_type": "markdown",
   "id": "bd1b0982",
   "metadata": {},
   "source": [
    "## Extracting Top Search Results Data"
   ]
  },
  {
   "cell_type": "code",
   "execution_count": 27,
   "id": "fe30a40d",
   "metadata": {},
   "outputs": [
    {
     "data": {
      "text/plain": [
       "\"import instaloader\\n \\n# Creating an instance of the Instaloader class\\nbot = instaloader.Instaloader()\\n profile = instaloader.Profile.from_username(bot.context, 'virat.kohli')\\n# Provide the search query here\\nsearch_results = instaloader.TopSearchResults(bot.context, 'music')\\n \\n# Iterating over the extracted usernames\\nfor username in search_results.get_profiles():\\n    print(username)\\n \\n# Iterating over the extracted hashtags\\nfor hashtag in search_results.get_hashtags():\\n    print(hashtag) \""
      ]
     },
     "execution_count": 27,
     "metadata": {},
     "output_type": "execute_result"
    }
   ],
   "source": [
    "'''import instaloader\n",
    " \n",
    "# Creating an instance of the Instaloader class\n",
    "bot = instaloader.Instaloader()\n",
    " profile = instaloader.Profile.from_username(bot.context, 'virat.kohli')\n",
    "# Provide the search query here\n",
    "search_results = instaloader.TopSearchResults(bot.context, 'music')\n",
    " \n",
    "# Iterating over the extracted usernames\n",
    "for username in search_results.get_profiles():\n",
    "    print(username)\n",
    " \n",
    "# Iterating over the extracted hashtags\n",
    "for hashtag in search_results.get_hashtags():\n",
    "    print(hashtag) '''"
   ]
  },
  {
   "cell_type": "markdown",
   "id": "da56534b",
   "metadata": {},
   "source": [
    "## Extracting Followers & Followings of an Account\n"
   ]
  },
  {
   "cell_type": "code",
   "execution_count": 30,
   "id": "14f901d2",
   "metadata": {},
   "outputs": [
    {
     "data": {
      "text/plain": [
       "'import instaloader\\nimport pandas as pd\\n \\n# Creating an instance of the Instaloader class\\nbot = instaloader.Instaloader()\\nbot.login(user=\"Your_username\", passwd=\"Your_password\")\\n \\n# Loading a profile from an Instagram handle\\nprofile = instaloader.Profile.from_username(bot.context, \\'virat.kohli\\')\\n \\n# Retrieving the usernames of all followers\\nfollowers = [follower.username for follower in profile.get_followers()]\\n \\n# Converting the data to a DataFrame\\nfollowers_df = pd.DataFrame(followers)\\n \\n# Storing the results in a CSV file\\nfollowers_df.to_csv(\\'followers.csv\\', index=False)\\n \\n# Retrieving the usernames of all followings\\nfollowings = [followee.username for followee in profile.get_followees()]\\n \\n# Converting the data to a DataFrame\\nfollowings_df = pd.DataFrame(followings)\\n \\n# Storing the results in a CSV file\\nfollowings_df.to_csv(\\'followings.csv\\', index=False)'"
      ]
     },
     "execution_count": 30,
     "metadata": {},
     "output_type": "execute_result"
    }
   ],
   "source": [
    "'''import instaloader\n",
    "import pandas as pd\n",
    " \n",
    "# Creating an instance of the Instaloader class\n",
    "bot = instaloader.Instaloader()\n",
    "bot.login(user=\"Your_username\", passwd=\"Your_password\")\n",
    " \n",
    "# Loading a profile from an Instagram handle\n",
    "profile = instaloader.Profile.from_username(bot.context, 'virat.kohli')\n",
    " \n",
    "# Retrieving the usernames of all followers\n",
    "followers = [follower.username for follower in profile.get_followers()]\n",
    " \n",
    "# Converting the data to a DataFrame\n",
    "followers_df = pd.DataFrame(followers)\n",
    " \n",
    "# Storing the results in a CSV file\n",
    "followers_df.to_csv('followers.csv', index=False)\n",
    " \n",
    "# Retrieving the usernames of all followings\n",
    "followings = [followee.username for followee in profile.get_followees()]\n",
    " \n",
    "# Converting the data to a DataFrame\n",
    "followings_df = pd.DataFrame(followings)\n",
    " \n",
    "# Storing the results in a CSV file\n",
    "followings_df.to_csv('followings.csv', index=False)'''"
   ]
  },
  {
   "cell_type": "code",
   "execution_count": null,
   "id": "632c9960",
   "metadata": {},
   "outputs": [],
   "source": []
  }
 ],
 "metadata": {
  "kernelspec": {
   "display_name": "Python 3 (ipykernel)",
   "language": "python",
   "name": "python3"
  },
  "language_info": {
   "codemirror_mode": {
    "name": "ipython",
    "version": 3
   },
   "file_extension": ".py",
   "mimetype": "text/x-python",
   "name": "python",
   "nbconvert_exporter": "python",
   "pygments_lexer": "ipython3",
   "version": "3.10.5"
  }
 },
 "nbformat": 4,
 "nbformat_minor": 5
}
