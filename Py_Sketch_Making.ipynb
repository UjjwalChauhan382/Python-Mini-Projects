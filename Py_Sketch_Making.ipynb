{
 "cells": [
  {
   "cell_type": "code",
   "execution_count": 23,
   "id": "880c0383",
   "metadata": {},
   "outputs": [
    {
     "name": "stdout",
     "output_type": "stream",
     "text": [
      "Requirement already satisfied: pip in c:\\users\\ujjwa\\appdata\\local\\programs\\python\\python310\\lib\\site-packages (23.1.2)\n",
      "Note: you may need to restart the kernel to use updated packages.\n"
     ]
    }
   ],
   "source": [
    "pip install --upgrade pip\n"
   ]
  },
  {
   "cell_type": "markdown",
   "id": "773a49bf",
   "metadata": {},
   "source": [
    "# Sketch using Python"
   ]
  },
  {
   "cell_type": "code",
   "execution_count": 24,
   "id": "a4192823",
   "metadata": {},
   "outputs": [
    {
     "name": "stderr",
     "output_type": "stream",
     "text": [
      "ERROR: Could not find a version that satisfies the requirement cv2 (from versions: none)\n",
      "ERROR: No matching distribution found for cv2\n"
     ]
    }
   ],
   "source": [
    "!pip install cv2"
   ]
  },
  {
   "cell_type": "code",
   "execution_count": 25,
   "id": "9ba1ebb9",
   "metadata": {},
   "outputs": [
    {
     "name": "stdout",
     "output_type": "stream",
     "text": [
      "Requirement already satisfied: opencv-python in c:\\users\\ujjwa\\appdata\\local\\programs\\python\\python310\\lib\\site-packages (4.7.0.72)\n",
      "Requirement already satisfied: numpy>=1.21.2 in c:\\users\\ujjwa\\appdata\\local\\programs\\python\\python310\\lib\\site-packages (from opencv-python) (1.23.3)\n",
      "Note: you may need to restart the kernel to use updated packages.\n"
     ]
    }
   ],
   "source": [
    "pip install opencv-python"
   ]
  },
  {
   "cell_type": "code",
   "execution_count": 26,
   "id": "a2cfd453",
   "metadata": {},
   "outputs": [
    {
     "name": "stdout",
     "output_type": "stream",
     "text": [
      "Requirement already satisfied: opencv-contrib-python in c:\\users\\ujjwa\\appdata\\local\\programs\\python\\python310\\lib\\site-packages (4.7.0.72)\n",
      "Requirement already satisfied: numpy>=1.21.2 in c:\\users\\ujjwa\\appdata\\local\\programs\\python\\python310\\lib\\site-packages (from opencv-contrib-python) (1.23.3)\n",
      "Note: you may need to restart the kernel to use updated packages.\n"
     ]
    }
   ],
   "source": [
    "pip install opencv-contrib-python\n"
   ]
  },
  {
   "cell_type": "code",
   "execution_count": 27,
   "id": "f853d7dc",
   "metadata": {},
   "outputs": [
    {
     "name": "stdout",
     "output_type": "stream",
     "text": [
      "Requirement already satisfied: opencv-python-headless in c:\\users\\ujjwa\\appdata\\local\\programs\\python\\python310\\lib\\site-packages (4.7.0.72)\n",
      "Requirement already satisfied: numpy>=1.21.2 in c:\\users\\ujjwa\\appdata\\local\\programs\\python\\python310\\lib\\site-packages (from opencv-python-headless) (1.23.3)\n",
      "Note: you may need to restart the kernel to use updated packages.\n"
     ]
    }
   ],
   "source": [
    "pip install opencv-python-headless"
   ]
  },
  {
   "cell_type": "code",
   "execution_count": 28,
   "id": "2cad662f",
   "metadata": {},
   "outputs": [
    {
     "name": "stdout",
     "output_type": "stream",
     "text": [
      "Requirement already satisfied: opencv-contrib-python-headless in c:\\users\\ujjwa\\appdata\\local\\programs\\python\\python310\\lib\\site-packages (4.7.0.72)\n",
      "Requirement already satisfied: numpy>=1.21.2 in c:\\users\\ujjwa\\appdata\\local\\programs\\python\\python310\\lib\\site-packages (from opencv-contrib-python-headless) (1.23.3)\n",
      "Note: you may need to restart the kernel to use updated packages.\n"
     ]
    }
   ],
   "source": [
    "pip install opencv-contrib-python-headless"
   ]
  },
  {
   "cell_type": "code",
   "execution_count": 1,
   "id": "a06b3232",
   "metadata": {},
   "outputs": [],
   "source": [
    "import cv2"
   ]
  },
  {
   "cell_type": "code",
   "execution_count": 7,
   "id": "3549e383",
   "metadata": {},
   "outputs": [],
   "source": [
    "img = cv2.imread('gta5x3.jpeg')\n"
   ]
  },
  {
   "cell_type": "markdown",
   "id": "d2629f3a",
   "metadata": {},
   "source": [
    "### Converting an image from one color space to another-\n"
   ]
  },
  {
   "cell_type": "code",
   "execution_count": 8,
   "id": "363b31ec",
   "metadata": {},
   "outputs": [],
   "source": [
    "grey_img = cv2.cvtColor(image, cv2.COLOR_BGR2GRAY)"
   ]
  },
  {
   "cell_type": "code",
   "execution_count": 9,
   "id": "e47fa0b0",
   "metadata": {},
   "outputs": [],
   "source": [
    "invert = cv2.bitwise_not(grey_img)  # helps in masking of the image"
   ]
  },
  {
   "cell_type": "code",
   "execution_count": 10,
   "id": "1a421763",
   "metadata": {},
   "outputs": [],
   "source": [
    "# sharp edges in images are smoothed while minimizing too much blurring\n",
    "blur = cv2.GaussianBlur(invert, (21, 21), 0)\n",
    "invertedblur = cv2.bitwise_not(blur)\n"
   ]
  },
  {
   "cell_type": "code",
   "execution_count": 11,
   "id": "f5455656",
   "metadata": {},
   "outputs": [],
   "source": [
    "sketch = cv2.divide(grey_img, invertedblur, scale=256.0)\n"
   ]
  },
  {
   "cell_type": "code",
   "execution_count": 12,
   "id": "8e49ccdf",
   "metadata": {},
   "outputs": [
    {
     "data": {
      "text/plain": [
       "True"
      ]
     },
     "execution_count": 12,
     "metadata": {},
     "output_type": "execute_result"
    }
   ],
   "source": [
    "cv2.imwrite(\"sketch.png\", sketch)  # converted image is saved as mentioned name"
   ]
  },
  {
   "cell_type": "code",
   "execution_count": null,
   "id": "9031dcaf",
   "metadata": {},
   "outputs": [],
   "source": []
  }
 ],
 "metadata": {
  "kernelspec": {
   "display_name": "Python 3 (ipykernel)",
   "language": "python",
   "name": "python3"
  },
  "language_info": {
   "codemirror_mode": {
    "name": "ipython",
    "version": 3
   },
   "file_extension": ".py",
   "mimetype": "text/x-python",
   "name": "python",
   "nbconvert_exporter": "python",
   "pygments_lexer": "ipython3",
   "version": "3.10.5"
  }
 },
 "nbformat": 4,
 "nbformat_minor": 5
}
