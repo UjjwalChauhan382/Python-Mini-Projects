{
 "cells": [
  {
   "cell_type": "code",
   "execution_count": 1,
   "id": "6bb1cd1f",
   "metadata": {},
   "outputs": [
    {
     "name": "stdout",
     "output_type": "stream",
     "text": [
      "Requirement already satisfied: Wikipedia in c:\\users\\ujjwa\\appdata\\local\\programs\\python\\python310\\lib\\site-packages (1.4.0)\n",
      "Requirement already satisfied: beautifulsoup4 in c:\\users\\ujjwa\\appdata\\local\\programs\\python\\python310\\lib\\site-packages (from Wikipedia) (4.11.1)\n",
      "Requirement already satisfied: requests<3.0.0,>=2.0.0 in c:\\users\\ujjwa\\appdata\\local\\programs\\python\\python310\\lib\\site-packages (from Wikipedia) (2.28.2)\n",
      "Requirement already satisfied: charset-normalizer<4,>=2 in c:\\users\\ujjwa\\appdata\\local\\programs\\python\\python310\\lib\\site-packages (from requests<3.0.0,>=2.0.0->Wikipedia) (3.0.1)\n",
      "Requirement already satisfied: idna<4,>=2.5 in c:\\users\\ujjwa\\appdata\\local\\programs\\python\\python310\\lib\\site-packages (from requests<3.0.0,>=2.0.0->Wikipedia) (3.4)\n",
      "Requirement already satisfied: urllib3<1.27,>=1.21.1 in c:\\users\\ujjwa\\appdata\\local\\programs\\python\\python310\\lib\\site-packages (from requests<3.0.0,>=2.0.0->Wikipedia) (1.26.14)\n",
      "Requirement already satisfied: certifi>=2017.4.17 in c:\\users\\ujjwa\\appdata\\local\\programs\\python\\python310\\lib\\site-packages (from requests<3.0.0,>=2.0.0->Wikipedia) (2022.12.7)\n",
      "Requirement already satisfied: soupsieve>1.2 in c:\\users\\ujjwa\\appdata\\local\\programs\\python\\python310\\lib\\site-packages (from beautifulsoup4->Wikipedia) (2.3.2.post1)\n"
     ]
    }
   ],
   "source": [
    "!pip install Wikipedia"
   ]
  },
  {
   "cell_type": "code",
   "execution_count": 2,
   "id": "bdb556e7",
   "metadata": {},
   "outputs": [
    {
     "name": "stdout",
     "output_type": "stream",
     "text": [
      "Requirement already satisfied: wordcloud in c:\\users\\ujjwa\\appdata\\local\\programs\\python\\python310\\lib\\site-packages (1.9.1.1)\n",
      "Requirement already satisfied: numpy>=1.6.1 in c:\\users\\ujjwa\\appdata\\local\\programs\\python\\python310\\lib\\site-packages (from wordcloud) (1.23.3)\n",
      "Requirement already satisfied: pillow in c:\\users\\ujjwa\\appdata\\local\\programs\\python\\python310\\lib\\site-packages (from wordcloud) (9.4.0)\n",
      "Requirement already satisfied: matplotlib in c:\\users\\ujjwa\\appdata\\local\\programs\\python\\python310\\lib\\site-packages (from wordcloud) (3.7.0)\n",
      "Requirement already satisfied: contourpy>=1.0.1 in c:\\users\\ujjwa\\appdata\\local\\programs\\python\\python310\\lib\\site-packages (from matplotlib->wordcloud) (1.0.7)\n",
      "Requirement already satisfied: cycler>=0.10 in c:\\users\\ujjwa\\appdata\\local\\programs\\python\\python310\\lib\\site-packages (from matplotlib->wordcloud) (0.11.0)\n",
      "Requirement already satisfied: fonttools>=4.22.0 in c:\\users\\ujjwa\\appdata\\local\\programs\\python\\python310\\lib\\site-packages (from matplotlib->wordcloud) (4.38.0)\n",
      "Requirement already satisfied: kiwisolver>=1.0.1 in c:\\users\\ujjwa\\appdata\\local\\programs\\python\\python310\\lib\\site-packages (from matplotlib->wordcloud) (1.4.4)\n",
      "Requirement already satisfied: packaging>=20.0 in c:\\users\\ujjwa\\appdata\\local\\programs\\python\\python310\\lib\\site-packages (from matplotlib->wordcloud) (21.3)\n",
      "Requirement already satisfied: pyparsing>=2.3.1 in c:\\users\\ujjwa\\appdata\\local\\programs\\python\\python310\\lib\\site-packages (from matplotlib->wordcloud) (3.0.9)\n",
      "Requirement already satisfied: python-dateutil>=2.7 in c:\\users\\ujjwa\\appdata\\local\\programs\\python\\python310\\lib\\site-packages (from matplotlib->wordcloud) (2.8.2)\n",
      "Requirement already satisfied: six>=1.5 in c:\\users\\ujjwa\\appdata\\local\\programs\\python\\python310\\lib\\site-packages (from python-dateutil>=2.7->matplotlib->wordcloud) (1.16.0)\n"
     ]
    }
   ],
   "source": [
    "!pip install wordcloud"
   ]
  },
  {
   "cell_type": "code",
   "execution_count": 3,
   "id": "b78c199f",
   "metadata": {},
   "outputs": [],
   "source": [
    "import wikipedia"
   ]
  },
  {
   "cell_type": "code",
   "execution_count": 4,
   "id": "5aa4af01",
   "metadata": {},
   "outputs": [],
   "source": [
    "import numpy as np"
   ]
  },
  {
   "cell_type": "code",
   "execution_count": 5,
   "id": "a61c9a75",
   "metadata": {},
   "outputs": [],
   "source": [
    "import sys  #system"
   ]
  },
  {
   "cell_type": "code",
   "execution_count": 6,
   "id": "6e47c867",
   "metadata": {},
   "outputs": [],
   "source": [
    "from wordcloud import WordCloud, STOPWORDS  #Stopwords - a,the,i,and,are etc;"
   ]
  },
  {
   "cell_type": "code",
   "execution_count": 7,
   "id": "c7cfb117",
   "metadata": {},
   "outputs": [],
   "source": [
    "from PIL import Image  #Python Image Library - PIL"
   ]
  },
  {
   "cell_type": "code",
   "execution_count": 10,
   "id": "c865e640",
   "metadata": {},
   "outputs": [
    {
     "name": "stdout",
     "output_type": "stream",
     "text": [
      "Enter the Title: Python Libraries\n"
     ]
    }
   ],
   "source": [
    "title = str(input('Enter the Title: '))\n"
   ]
  },
  {
   "cell_type": "code",
   "execution_count": 11,
   "id": "dae8705c",
   "metadata": {},
   "outputs": [],
   "source": [
    "keyword = wikipedia.search(title)\n",
    "page = wikipedia.page(keyword)\n",
    "content = page.content"
   ]
  },
  {
   "cell_type": "code",
   "execution_count": 12,
   "id": "7d8fb8e2",
   "metadata": {},
   "outputs": [
    {
     "data": {
      "text/plain": [
       "<wordcloud.wordcloud.WordCloud at 0x115a770a6b0>"
      ]
     },
     "execution_count": 12,
     "metadata": {},
     "output_type": "execute_result"
    }
   ],
   "source": [
    "stopwords = set(STOPWORDS)\n",
    "wordcloud = WordCloud(background_color='white',\n",
    "                      max_words=300,\n",
    "                      stopwords=stopwords)\n",
    "wordcloud.generate(content)\n",
    "wordcloud.to_file('output.jpg')"
   ]
  },
  {
   "cell_type": "code",
   "execution_count": null,
   "id": "1a71439d",
   "metadata": {},
   "outputs": [],
   "source": []
  }
 ],
 "metadata": {
  "kernelspec": {
   "display_name": "Python 3 (ipykernel)",
   "language": "python",
   "name": "python3"
  },
  "language_info": {
   "codemirror_mode": {
    "name": "ipython",
    "version": 3
   },
   "file_extension": ".py",
   "mimetype": "text/x-python",
   "name": "python",
   "nbconvert_exporter": "python",
   "pygments_lexer": "ipython3",
   "version": "3.10.5"
  }
 },
 "nbformat": 4,
 "nbformat_minor": 5
}
