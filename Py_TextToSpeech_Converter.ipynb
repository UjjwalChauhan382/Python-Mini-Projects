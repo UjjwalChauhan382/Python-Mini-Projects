{
 "cells": [
  {
   "cell_type": "markdown",
   "id": "c604b439",
   "metadata": {},
   "source": [
    "##  Converting Text to Speech using Python Libraries"
   ]
  },
  {
   "cell_type": "code",
   "execution_count": 3,
   "id": "18243fe2",
   "metadata": {},
   "outputs": [
    {
     "name": "stdout",
     "output_type": "stream",
     "text": [
      "Collecting gTTS\n",
      "  Downloading gTTS-2.3.2-py3-none-any.whl (28 kB)\n",
      "Requirement already satisfied: requests<3,>=2.27 in c:\\users\\ujjwa\\appdata\\local\\programs\\python\\python310\\lib\\site-packages (from gTTS) (2.28.2)\n",
      "Requirement already satisfied: click<8.2,>=7.1 in c:\\users\\ujjwa\\appdata\\local\\programs\\python\\python310\\lib\\site-packages (from gTTS) (8.1.3)\n",
      "Requirement already satisfied: colorama in c:\\users\\ujjwa\\appdata\\local\\programs\\python\\python310\\lib\\site-packages (from click<8.2,>=7.1->gTTS) (0.4.5)\n",
      "Requirement already satisfied: charset-normalizer<4,>=2 in c:\\users\\ujjwa\\appdata\\local\\programs\\python\\python310\\lib\\site-packages (from requests<3,>=2.27->gTTS) (3.0.1)\n",
      "Requirement already satisfied: idna<4,>=2.5 in c:\\users\\ujjwa\\appdata\\local\\programs\\python\\python310\\lib\\site-packages (from requests<3,>=2.27->gTTS) (3.4)\n",
      "Requirement already satisfied: urllib3<1.27,>=1.21.1 in c:\\users\\ujjwa\\appdata\\local\\programs\\python\\python310\\lib\\site-packages (from requests<3,>=2.27->gTTS) (1.26.14)\n",
      "Requirement already satisfied: certifi>=2017.4.17 in c:\\users\\ujjwa\\appdata\\local\\programs\\python\\python310\\lib\\site-packages (from requests<3,>=2.27->gTTS) (2022.12.7)\n",
      "Installing collected packages: gTTS\n",
      "Successfully installed gTTS-2.3.2\n"
     ]
    }
   ],
   "source": [
    "!pip install gTTS"
   ]
  },
  {
   "cell_type": "code",
   "execution_count": 5,
   "id": "8f1b6244",
   "metadata": {},
   "outputs": [],
   "source": [
    "from gtts import gTTS     # Google Text to Speech Package"
   ]
  },
  {
   "cell_type": "code",
   "execution_count": 6,
   "id": "082ad157",
   "metadata": {},
   "outputs": [],
   "source": [
    "import os"
   ]
  },
  {
   "cell_type": "code",
   "execution_count": 7,
   "id": "07d7558c",
   "metadata": {},
   "outputs": [],
   "source": [
    "file = open('SampleText.txt','r')"
   ]
  },
  {
   "cell_type": "code",
   "execution_count": 8,
   "id": "9200e123",
   "metadata": {},
   "outputs": [],
   "source": [
    "file_txt = file.read().replace('\\n',' ')     #to read new line as empty space."
   ]
  },
  {
   "cell_type": "code",
   "execution_count": 9,
   "id": "427c3f52",
   "metadata": {},
   "outputs": [],
   "source": [
    "language = 'en'"
   ]
  },
  {
   "cell_type": "code",
   "execution_count": 10,
   "id": "2e7eb508",
   "metadata": {},
   "outputs": [],
   "source": [
    "output = gTTS(text = file_txt, lang=language, slow=False)"
   ]
  },
  {
   "cell_type": "code",
   "execution_count": 11,
   "id": "5d1d11a5",
   "metadata": {},
   "outputs": [],
   "source": [
    "output.save('output.mp3')"
   ]
  },
  {
   "cell_type": "code",
   "execution_count": 12,
   "id": "10baff7e",
   "metadata": {},
   "outputs": [],
   "source": [
    "file.close()"
   ]
  },
  {
   "cell_type": "code",
   "execution_count": 13,
   "id": "d0350524",
   "metadata": {},
   "outputs": [
    {
     "data": {
      "text/plain": [
       "0"
      ]
     },
     "execution_count": 13,
     "metadata": {},
     "output_type": "execute_result"
    }
   ],
   "source": [
    "os.system('start output.mp3')"
   ]
  },
  {
   "cell_type": "code",
   "execution_count": null,
   "id": "f4eb3b4c",
   "metadata": {},
   "outputs": [],
   "source": []
  }
 ],
 "metadata": {
  "kernelspec": {
   "display_name": "Python 3 (ipykernel)",
   "language": "python",
   "name": "python3"
  },
  "language_info": {
   "codemirror_mode": {
    "name": "ipython",
    "version": 3
   },
   "file_extension": ".py",
   "mimetype": "text/x-python",
   "name": "python",
   "nbconvert_exporter": "python",
   "pygments_lexer": "ipython3",
   "version": "3.10.5"
  }
 },
 "nbformat": 4,
 "nbformat_minor": 5
}
