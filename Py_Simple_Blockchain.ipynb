{
 "cells": [
  {
   "cell_type": "code",
   "execution_count": 1,
   "id": "26fb8419",
   "metadata": {},
   "outputs": [
    {
     "name": "stdout",
     "output_type": "stream",
     "text": [
      "{'data': 'gen-data', 'hash': '0a87388e67f16d830a9a3323dad0fdfa4c4044a6a6389cab1a0a37b651a5717b', 'prev': 'bd6fecc16d509c74d23b04f00f936705e3eaa907b04b78872044607665018477'}\n",
      "{'data': '1', 'hash': 'e3e6c97161f3deaf01599fda60ba85593b07f70328bf228473d1d408f7400241', 'prev': '0a87388e67f16d830a9a3323dad0fdfa4c4044a6a6389cab1a0a37b651a5717b'}\n",
      "{'data': '2', 'hash': '47e8645e3c14bd4034a498aa88ea630bc0793375207bf90ca469792a5d9484e1', 'prev': 'e3e6c97161f3deaf01599fda60ba85593b07f70328bf228473d1d408f7400241'}\n",
      "{'data': '3', 'hash': '82084603decb1a14a8819dacaa86197659f1e150c4a50186e68043004b5a3c06', 'prev': '47e8645e3c14bd4034a498aa88ea630bc0793375207bf90ca469792a5d9484e1'}\n"
     ]
    }
   ],
   "source": [
    "import hashlib\n",
    "\n",
    "def giveHash(data):\n",
    "  result = hashlib.sha256(data.encode())\n",
    "  return result.hexdigest()\n",
    "\n",
    "class Block:\n",
    "  def __init__(self, data, hash, prev):\n",
    "    self.data = data\n",
    "    self.hash = hash \n",
    "    self.prev = prev\n",
    "\n",
    "class Blockchain:\n",
    "  def __init__(self):\n",
    "    hash_last = giveHash('gen_last')\n",
    "    hash_start = giveHash('gen_hash')\n",
    "\n",
    "    genesis = Block('gen-data', hash_start, hash_last)\n",
    "    self.chain = [genesis]\n",
    "\n",
    "  def add_block(self, data):\n",
    "    prev_hash = self.chain[-1].hash\n",
    "    hash = giveHash(data+prev_hash) \n",
    "    block = Block(data, hash, prev_hash) \n",
    "    self.chain.append(block)\n",
    "\n",
    "bc = Blockchain() \n",
    "bc.add_block('1') \n",
    "bc.add_block('2')\n",
    "bc.add_block('3')\n",
    "\n",
    "for block in bc.chain:\n",
    "  print(block.__dict__)"
   ]
  },
  {
   "cell_type": "code",
   "execution_count": null,
   "id": "3fd89784",
   "metadata": {},
   "outputs": [],
   "source": []
  }
 ],
 "metadata": {
  "kernelspec": {
   "display_name": "Python 3 (ipykernel)",
   "language": "python",
   "name": "python3"
  },
  "language_info": {
   "codemirror_mode": {
    "name": "ipython",
    "version": 3
   },
   "file_extension": ".py",
   "mimetype": "text/x-python",
   "name": "python",
   "nbconvert_exporter": "python",
   "pygments_lexer": "ipython3",
   "version": "3.10.5"
  }
 },
 "nbformat": 4,
 "nbformat_minor": 5
}
