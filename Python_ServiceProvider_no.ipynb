{
 "cells": [
  {
   "cell_type": "markdown",
   "id": "11738782",
   "metadata": {},
   "source": [
    "## Python Library to get Service Provider / Location / Time Zone of Mobile Number -\n"
   ]
  },
  {
   "cell_type": "code",
   "execution_count": 2,
   "id": "0fbfcc9f",
   "metadata": {},
   "outputs": [
    {
     "name": "stdout",
     "output_type": "stream",
     "text": [
      "Collecting phonenumbers\n",
      "  Downloading phonenumbers-8.13.14-py2.py3-none-any.whl (2.6 MB)\n",
      "     ---------------------------------------- 2.6/2.6 MB 4.1 MB/s eta 0:00:00\n",
      "Installing collected packages: phonenumbers\n",
      "Successfully installed phonenumbers-8.13.14\n"
     ]
    },
    {
     "name": "stderr",
     "output_type": "stream",
     "text": [
      "WARNING: You are using pip version 22.0.4; however, version 23.1.2 is available.\n",
      "You should consider upgrading via the 'C:\\Users\\ujjwa\\AppData\\Local\\Programs\\Python\\Python310\\python.exe -m pip install --upgrade pip' command.\n"
     ]
    }
   ],
   "source": [
    "!pip install phonenumbers"
   ]
  },
  {
   "cell_type": "code",
   "execution_count": 3,
   "id": "0fee5dd4",
   "metadata": {},
   "outputs": [],
   "source": [
    "import phonenumbers"
   ]
  },
  {
   "cell_type": "code",
   "execution_count": 4,
   "id": "b73f7854",
   "metadata": {},
   "outputs": [],
   "source": [
    "from phonenumbers import timezone"
   ]
  },
  {
   "cell_type": "code",
   "execution_count": 5,
   "id": "94720252",
   "metadata": {},
   "outputs": [],
   "source": [
    "from phonenumbers import geocoder"
   ]
  },
  {
   "cell_type": "code",
   "execution_count": 24,
   "id": "f35829aa",
   "metadata": {},
   "outputs": [],
   "source": [
    "number = '+91 9998954560'"
   ]
  },
  {
   "cell_type": "code",
   "execution_count": 25,
   "id": "d71443f4",
   "metadata": {},
   "outputs": [],
   "source": [
    "phone_number = phonenumbers.parse(number)"
   ]
  },
  {
   "cell_type": "code",
   "execution_count": 26,
   "id": "12811253",
   "metadata": {},
   "outputs": [
    {
     "name": "stdout",
     "output_type": "stream",
     "text": [
      "India\n"
     ]
    }
   ],
   "source": [
    "print(geocoder.description_for_number(phone_number ,'en'))"
   ]
  },
  {
   "cell_type": "code",
   "execution_count": 27,
   "id": "eee30f43",
   "metadata": {},
   "outputs": [
    {
     "name": "stdout",
     "output_type": "stream",
     "text": [
      "('Asia/Calcutta',)\n"
     ]
    }
   ],
   "source": [
    "print(timezone.time_zones_for_number(phone_number))"
   ]
  },
  {
   "cell_type": "code",
   "execution_count": 28,
   "id": "95a85501",
   "metadata": {},
   "outputs": [],
   "source": [
    "from phonenumbers import carrier"
   ]
  },
  {
   "cell_type": "code",
   "execution_count": 29,
   "id": "20b00585",
   "metadata": {},
   "outputs": [
    {
     "name": "stdout",
     "output_type": "stream",
     "text": [
      "Airtel\n"
     ]
    }
   ],
   "source": [
    "print(carrier.name_for_number(phone_number, 'en'))"
   ]
  },
  {
   "cell_type": "code",
   "execution_count": null,
   "id": "247027b5",
   "metadata": {},
   "outputs": [],
   "source": []
  }
 ],
 "metadata": {
  "kernelspec": {
   "display_name": "Python 3 (ipykernel)",
   "language": "python",
   "name": "python3"
  },
  "language_info": {
   "codemirror_mode": {
    "name": "ipython",
    "version": 3
   },
   "file_extension": ".py",
   "mimetype": "text/x-python",
   "name": "python",
   "nbconvert_exporter": "python",
   "pygments_lexer": "ipython3",
   "version": "3.10.5"
  }
 },
 "nbformat": 4,
 "nbformat_minor": 5
}
