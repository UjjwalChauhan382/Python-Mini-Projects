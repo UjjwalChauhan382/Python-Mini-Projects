{
 "cells": [
  {
   "cell_type": "code",
   "execution_count": 14,
   "id": "6543455a",
   "metadata": {},
   "outputs": [
    {
     "name": "stdout",
     "output_type": "stream",
     "text": [
      "Requirement already satisfied: pyshorteners in c:\\users\\ujjwa\\appdata\\local\\programs\\python\\python310\\lib\\site-packages (1.0.1)\n",
      "Requirement already satisfied: requests in c:\\users\\ujjwa\\appdata\\local\\programs\\python\\python310\\lib\\site-packages (from pyshorteners) (2.28.2)\n",
      "Requirement already satisfied: charset-normalizer<4,>=2 in c:\\users\\ujjwa\\appdata\\local\\programs\\python\\python310\\lib\\site-packages (from requests->pyshorteners) (3.0.1)\n",
      "Requirement already satisfied: idna<4,>=2.5 in c:\\users\\ujjwa\\appdata\\local\\programs\\python\\python310\\lib\\site-packages (from requests->pyshorteners) (3.4)\n",
      "Requirement already satisfied: urllib3<1.27,>=1.21.1 in c:\\users\\ujjwa\\appdata\\local\\programs\\python\\python310\\lib\\site-packages (from requests->pyshorteners) (1.26.14)\n",
      "Requirement already satisfied: certifi>=2017.4.17 in c:\\users\\ujjwa\\appdata\\local\\programs\\python\\python310\\lib\\site-packages (from requests->pyshorteners) (2022.12.7)\n"
     ]
    }
   ],
   "source": [
    "!pip install pyshorteners"
   ]
  },
  {
   "cell_type": "code",
   "execution_count": 15,
   "id": "4d1b406c",
   "metadata": {},
   "outputs": [
    {
     "name": "stdout",
     "output_type": "stream",
     "text": [
      "Requirement already satisfied: pyperclip in c:\\users\\ujjwa\\appdata\\local\\programs\\python\\python310\\lib\\site-packages (1.8.2)\n"
     ]
    }
   ],
   "source": [
    "!pip install pyperclip"
   ]
  },
  {
   "cell_type": "code",
   "execution_count": 16,
   "id": "41f230b6",
   "metadata": {},
   "outputs": [],
   "source": [
    "import pyshorteners\n"
   ]
  },
  {
   "cell_type": "code",
   "execution_count": 17,
   "id": "4fa74752",
   "metadata": {},
   "outputs": [],
   "source": [
    "import pyperclip"
   ]
  },
  {
   "cell_type": "code",
   "execution_count": 18,
   "id": "2aecfa0f",
   "metadata": {},
   "outputs": [
    {
     "name": "stdout",
     "output_type": "stream",
     "text": [
      "Enter the url: https://www.youtube.com/redirect?event=video_description&redir_token=QUFFLUhqa2pjVXdzQnlwV2ZiTVFlc00zUVVubEJxcUo3d3xBQ3Jtc0ttSm5aMmZmVk02Q3hPbUcxY0FKTkdPUW1lLUE2dXBva2dtbnhCWjE0X1V3b3R4R2lyZ21qbmJYa3prV2FYTl96V2w2RW9PeTNhemdvN1psbU8xRXpTdnRXaGltMXZIdmtHcDl6aHV4eDJSSUo2R3pDOA&q=https%3A%2F%2Fgist.github.com%2Fakmadan%2F2ee61ad31cd51471819ca4a81df49bde&v=VEvth8Q7Tuo\n"
     ]
    }
   ],
   "source": [
    "url = input('Enter the url: ')"
   ]
  },
  {
   "cell_type": "code",
   "execution_count": 19,
   "id": "829bf5b4",
   "metadata": {},
   "outputs": [
    {
     "name": "stdout",
     "output_type": "stream",
     "text": [
      "https://tinyurl.com/2bz2nl8n\n"
     ]
    }
   ],
   "source": [
    "def shortenurl(url):\n",
    "    s = pyshorteners.Shortener()\n",
    "    print(s.tinyurl.short(url))\n",
    "shortenurl(url)"
   ]
  },
  {
   "cell_type": "code",
   "execution_count": null,
   "id": "e77625df",
   "metadata": {},
   "outputs": [],
   "source": []
  },
  {
   "cell_type": "code",
   "execution_count": null,
   "id": "a6379580",
   "metadata": {},
   "outputs": [],
   "source": []
  },
  {
   "cell_type": "code",
   "execution_count": null,
   "id": "32c1f96e",
   "metadata": {},
   "outputs": [],
   "source": []
  }
 ],
 "metadata": {
  "kernelspec": {
   "display_name": "Python 3 (ipykernel)",
   "language": "python",
   "name": "python3"
  },
  "language_info": {
   "codemirror_mode": {
    "name": "ipython",
    "version": 3
   },
   "file_extension": ".py",
   "mimetype": "text/x-python",
   "name": "python",
   "nbconvert_exporter": "python",
   "pygments_lexer": "ipython3",
   "version": "3.10.5"
  }
 },
 "nbformat": 4,
 "nbformat_minor": 5
}
