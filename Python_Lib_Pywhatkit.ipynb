{
 "cells": [
  {
   "cell_type": "code",
   "execution_count": 1,
   "id": "91377606",
   "metadata": {},
   "outputs": [
    {
     "name": "stdout",
     "output_type": "stream",
     "text": [
      "Collecting pywhatkit\n",
      "  Downloading pywhatkit-5.4-py3-none-any.whl (15 kB)\n",
      "Requirement already satisfied: Pillow in c:\\users\\ujjwa\\appdata\\local\\programs\\python\\python310\\lib\\site-packages (from pywhatkit) (9.4.0)\n",
      "Collecting pyautogui (from pywhatkit)\n",
      "  Downloading PyAutoGUI-0.9.54.tar.gz (61 kB)\n",
      "     -------------------------------------- 61.2/61.2 kB 463.6 kB/s eta 0:00:00\n",
      "  Installing build dependencies: started\n",
      "  Installing build dependencies: finished with status 'done'\n",
      "  Getting requirements to build wheel: started\n",
      "  Getting requirements to build wheel: finished with status 'done'\n",
      "  Preparing metadata (pyproject.toml): started\n",
      "  Preparing metadata (pyproject.toml): finished with status 'done'\n",
      "Requirement already satisfied: requests in c:\\users\\ujjwa\\appdata\\local\\programs\\python\\python310\\lib\\site-packages (from pywhatkit) (2.28.2)\n",
      "Collecting wikipedia (from pywhatkit)\n",
      "  Downloading wikipedia-1.4.0.tar.gz (27 kB)\n",
      "  Installing build dependencies: started\n",
      "  Installing build dependencies: finished with status 'done'\n",
      "  Getting requirements to build wheel: started\n",
      "  Getting requirements to build wheel: finished with status 'done'\n",
      "  Preparing metadata (pyproject.toml): started\n",
      "  Preparing metadata (pyproject.toml): finished with status 'done'\n",
      "Collecting Flask (from pywhatkit)\n",
      "  Downloading Flask-2.3.2-py3-none-any.whl (96 kB)\n",
      "     ---------------------------------------- 96.9/96.9 kB 1.8 MB/s eta 0:00:00\n",
      "Collecting Werkzeug>=2.3.3 (from Flask->pywhatkit)\n",
      "  Downloading Werkzeug-2.3.6-py3-none-any.whl (242 kB)\n",
      "     -------------------------------------- 242.5/242.5 kB 4.9 MB/s eta 0:00:00\n",
      "Requirement already satisfied: Jinja2>=3.1.2 in c:\\users\\ujjwa\\appdata\\local\\programs\\python\\python310\\lib\\site-packages (from Flask->pywhatkit) (3.1.2)\n",
      "Collecting itsdangerous>=2.1.2 (from Flask->pywhatkit)\n",
      "  Downloading itsdangerous-2.1.2-py3-none-any.whl (15 kB)\n",
      "Requirement already satisfied: click>=8.1.3 in c:\\users\\ujjwa\\appdata\\local\\programs\\python\\python310\\lib\\site-packages (from Flask->pywhatkit) (8.1.3)\n",
      "Collecting blinker>=1.6.2 (from Flask->pywhatkit)\n",
      "  Downloading blinker-1.6.2-py3-none-any.whl (13 kB)\n",
      "Collecting pymsgbox (from pyautogui->pywhatkit)\n",
      "  Downloading PyMsgBox-1.0.9.tar.gz (18 kB)\n",
      "  Installing build dependencies: started\n",
      "  Installing build dependencies: finished with status 'done'\n",
      "  Getting requirements to build wheel: started\n",
      "  Getting requirements to build wheel: finished with status 'done'\n",
      "  Preparing metadata (pyproject.toml): started\n",
      "  Preparing metadata (pyproject.toml): finished with status 'done'\n",
      "Collecting pytweening>=1.0.4 (from pyautogui->pywhatkit)\n",
      "  Downloading pytweening-1.0.7.tar.gz (168 kB)\n",
      "     -------------------------------------- 168.2/168.2 kB 4.9 MB/s eta 0:00:00\n",
      "  Installing build dependencies: started\n",
      "  Installing build dependencies: finished with status 'done'\n",
      "  Getting requirements to build wheel: started\n",
      "  Getting requirements to build wheel: finished with status 'done'\n",
      "  Preparing metadata (pyproject.toml): started\n",
      "  Preparing metadata (pyproject.toml): finished with status 'done'\n",
      "Collecting pyscreeze>=0.1.21 (from pyautogui->pywhatkit)\n",
      "  Downloading PyScreeze-0.1.29.tar.gz (25 kB)\n",
      "  Installing build dependencies: started\n",
      "  Installing build dependencies: finished with status 'done'\n",
      "  Getting requirements to build wheel: started\n",
      "  Getting requirements to build wheel: finished with status 'done'\n",
      "  Preparing metadata (pyproject.toml): started\n",
      "  Preparing metadata (pyproject.toml): finished with status 'done'\n",
      "Collecting pygetwindow>=0.0.5 (from pyautogui->pywhatkit)\n",
      "  Downloading PyGetWindow-0.0.9.tar.gz (9.7 kB)\n",
      "  Installing build dependencies: started\n",
      "  Installing build dependencies: finished with status 'done'\n",
      "  Getting requirements to build wheel: started\n",
      "  Getting requirements to build wheel: finished with status 'done'\n",
      "  Preparing metadata (pyproject.toml): started\n",
      "  Preparing metadata (pyproject.toml): finished with status 'done'\n",
      "Collecting mouseinfo (from pyautogui->pywhatkit)\n",
      "  Downloading MouseInfo-0.1.3.tar.gz (10 kB)\n",
      "  Installing build dependencies: started\n",
      "  Installing build dependencies: finished with status 'done'\n",
      "  Getting requirements to build wheel: started\n",
      "  Getting requirements to build wheel: finished with status 'done'\n",
      "  Preparing metadata (pyproject.toml): started\n",
      "  Preparing metadata (pyproject.toml): finished with status 'done'\n",
      "Requirement already satisfied: charset-normalizer<4,>=2 in c:\\users\\ujjwa\\appdata\\local\\programs\\python\\python310\\lib\\site-packages (from requests->pywhatkit) (3.0.1)\n",
      "Requirement already satisfied: idna<4,>=2.5 in c:\\users\\ujjwa\\appdata\\local\\programs\\python\\python310\\lib\\site-packages (from requests->pywhatkit) (3.4)\n",
      "Requirement already satisfied: urllib3<1.27,>=1.21.1 in c:\\users\\ujjwa\\appdata\\local\\programs\\python\\python310\\lib\\site-packages (from requests->pywhatkit) (1.26.14)\n",
      "Requirement already satisfied: certifi>=2017.4.17 in c:\\users\\ujjwa\\appdata\\local\\programs\\python\\python310\\lib\\site-packages (from requests->pywhatkit) (2022.12.7)\n",
      "Requirement already satisfied: beautifulsoup4 in c:\\users\\ujjwa\\appdata\\local\\programs\\python\\python310\\lib\\site-packages (from wikipedia->pywhatkit) (4.11.1)\n",
      "Requirement already satisfied: colorama in c:\\users\\ujjwa\\appdata\\local\\programs\\python\\python310\\lib\\site-packages (from click>=8.1.3->Flask->pywhatkit) (0.4.5)\n",
      "Requirement already satisfied: MarkupSafe>=2.0 in c:\\users\\ujjwa\\appdata\\local\\programs\\python\\python310\\lib\\site-packages (from Jinja2>=3.1.2->Flask->pywhatkit) (2.1.1)\n",
      "Collecting pyrect (from pygetwindow>=0.0.5->pyautogui->pywhatkit)\n",
      "  Downloading PyRect-0.2.0.tar.gz (17 kB)\n",
      "  Installing build dependencies: started\n",
      "  Installing build dependencies: finished with status 'done'\n",
      "  Getting requirements to build wheel: started\n",
      "  Getting requirements to build wheel: finished with status 'done'\n",
      "  Preparing metadata (pyproject.toml): started\n",
      "  Preparing metadata (pyproject.toml): finished with status 'done'\n",
      "Collecting pyscreenshot (from pyscreeze>=0.1.21->pyautogui->pywhatkit)\n",
      "  Downloading pyscreenshot-3.1-py3-none-any.whl (28 kB)\n",
      "Requirement already satisfied: soupsieve>1.2 in c:\\users\\ujjwa\\appdata\\local\\programs\\python\\python310\\lib\\site-packages (from beautifulsoup4->wikipedia->pywhatkit) (2.3.2.post1)\n",
      "Collecting pyperclip (from mouseinfo->pyautogui->pywhatkit)\n",
      "  Downloading pyperclip-1.8.2.tar.gz (20 kB)\n",
      "  Installing build dependencies: started\n",
      "  Installing build dependencies: finished with status 'done'\n",
      "  Getting requirements to build wheel: started\n",
      "  Getting requirements to build wheel: finished with status 'done'\n",
      "  Preparing metadata (pyproject.toml): started\n",
      "  Preparing metadata (pyproject.toml): finished with status 'done'\n",
      "Collecting EasyProcess (from pyscreenshot->pyscreeze>=0.1.21->pyautogui->pywhatkit)\n",
      "  Downloading EasyProcess-1.1-py3-none-any.whl (8.7 kB)\n",
      "Collecting entrypoint2 (from pyscreenshot->pyscreeze>=0.1.21->pyautogui->pywhatkit)\n",
      "  Downloading entrypoint2-1.1-py2.py3-none-any.whl (9.9 kB)\n",
      "Collecting mss (from pyscreenshot->pyscreeze>=0.1.21->pyautogui->pywhatkit)\n",
      "  Downloading mss-9.0.1-py3-none-any.whl (22 kB)\n",
      "Building wheels for collected packages: pyautogui, wikipedia, pygetwindow, pyscreeze, pytweening, mouseinfo, pymsgbox, pyperclip, pyrect\n",
      "  Building wheel for pyautogui (pyproject.toml): started\n",
      "  Building wheel for pyautogui (pyproject.toml): finished with status 'done'\n",
      "  Created wheel for pyautogui: filename=PyAutoGUI-0.9.54-py3-none-any.whl size=37601 sha256=1df24a3ef9ea1b51024ca840cd0ba2a84007fadd2c30e08749c2d4a73e78b5f9\n",
      "  Stored in directory: c:\\users\\ujjwa\\appdata\\local\\pip\\cache\\wheels\\23\\a7\\1c\\5a51aaff3bbe110be4ddf766d429cc9d2fae7a72fc1b843e56\n",
      "  Building wheel for wikipedia (pyproject.toml): started\n",
      "  Building wheel for wikipedia (pyproject.toml): finished with status 'done'\n",
      "  Created wheel for wikipedia: filename=wikipedia-1.4.0-py3-none-any.whl size=11706 sha256=2b255cd4593afb823496010b5bbafb604fe601879adfc661e609399a64d66c91\n",
      "  Stored in directory: c:\\users\\ujjwa\\appdata\\local\\pip\\cache\\wheels\\5e\\b6\\c5\\93f3dec388ae76edc830cb42901bb0232504dfc0df02fc50de\n",
      "  Building wheel for pygetwindow (pyproject.toml): started\n",
      "  Building wheel for pygetwindow (pyproject.toml): finished with status 'done'\n",
      "  Created wheel for pygetwindow: filename=PyGetWindow-0.0.9-py3-none-any.whl size=11080 sha256=71033c5f4e54f388f7f26ad0d1f378c89c64d2e628e510f2bf15bc0849042670\n",
      "  Stored in directory: c:\\users\\ujjwa\\appdata\\local\\pip\\cache\\wheels\\02\\f6\\64\\c5d427819f80553df2398bfecc351e94e00371c1dcb6edb24e\n",
      "  Building wheel for pyscreeze (pyproject.toml): started\n",
      "  Building wheel for pyscreeze (pyproject.toml): finished with status 'done'\n",
      "  Created wheel for pyscreeze: filename=PyScreeze-0.1.29-py3-none-any.whl size=13485 sha256=08e11a8f145b5c54a7401209da7c98bd81dae568f015f12c83a67e7d7bb4a229\n",
      "  Stored in directory: c:\\users\\ujjwa\\appdata\\local\\pip\\cache\\wheels\\43\\aa\\46\\e91ba85339451aeec47733e4038d7ed73c0b4b633c6270a2ba\n",
      "  Building wheel for pytweening (pyproject.toml): started\n",
      "  Building wheel for pytweening (pyproject.toml): finished with status 'done'\n",
      "  Created wheel for pytweening: filename=pytweening-1.0.7-py3-none-any.whl size=6216 sha256=67fc62669009cb5616138984efe5e0b9eaab009c4edd80019bb7eaf67120bb65\n",
      "  Stored in directory: c:\\users\\ujjwa\\appdata\\local\\pip\\cache\\wheels\\ae\\a3\\d7\\36c45539416215425b3247e37b691a98a03b1db7b13b7f9632\n",
      "  Building wheel for mouseinfo (pyproject.toml): started\n",
      "  Building wheel for mouseinfo (pyproject.toml): finished with status 'done'\n",
      "  Created wheel for mouseinfo: filename=MouseInfo-0.1.3-py3-none-any.whl size=10907 sha256=19f308fda8de10c32755a70d6b799b64594ab43566a0f10c68b461a3d0ec7e60\n",
      "  Stored in directory: c:\\users\\ujjwa\\appdata\\local\\pip\\cache\\wheels\\6e\\d5\\27\\2f1be84b3e6ccee99c82f50e3fe7fe6360dd30417109b49a72\n",
      "  Building wheel for pymsgbox (pyproject.toml): started\n",
      "  Building wheel for pymsgbox (pyproject.toml): finished with status 'done'\n",
      "  Created wheel for pymsgbox: filename=PyMsgBox-1.0.9-py3-none-any.whl size=7417 sha256=cf240a00b129f5d0d706cb3b6f63150596cc2d78e91b9f77c629ba38ad5ad0ba\n",
      "  Stored in directory: c:\\users\\ujjwa\\appdata\\local\\pip\\cache\\wheels\\b9\\6a\\ba\\be2d7d78166ec8018c21d07241dffa54446c09652a267759ae\n",
      "  Building wheel for pyperclip (pyproject.toml): started\n",
      "  Building wheel for pyperclip (pyproject.toml): finished with status 'done'\n",
      "  Created wheel for pyperclip: filename=pyperclip-1.8.2-py3-none-any.whl size=11137 sha256=8655b31e4a4774f60f0c07c616edc1a661fc2baa0c659eed3fff87e179e8904f\n",
      "  Stored in directory: c:\\users\\ujjwa\\appdata\\local\\pip\\cache\\wheels\\04\\24\\fe\\140a94a7f1036003ede94579e6b4227fe96c840c6f4dcbe307\n",
      "  Building wheel for pyrect (pyproject.toml): started\n",
      "  Building wheel for pyrect (pyproject.toml): finished with status 'done'\n",
      "  Created wheel for pyrect: filename=PyRect-0.2.0-py2.py3-none-any.whl size=11204 sha256=fa66b208b0decc3eb9432231256a89be658f68d886758397abcf001e3a0ab0d6\n",
      "  Stored in directory: c:\\users\\ujjwa\\appdata\\local\\pip\\cache\\wheels\\d5\\4c\\bd\\42e4e23641afcd185d4e932784da37e6e04505da0cf3f7b832\n",
      "Successfully built pyautogui wikipedia pygetwindow pyscreeze pytweening mouseinfo pymsgbox pyperclip pyrect\n",
      "Installing collected packages: pytweening, pyrect, pyperclip, pymsgbox, entrypoint2, EasyProcess, Werkzeug, pygetwindow, mss, mouseinfo, itsdangerous, blinker, wikipedia, pyscreenshot, Flask, pyscreeze, pyautogui, pywhatkit\n",
      "  Attempting uninstall: blinker\n",
      "    Found existing installation: blinker 1.5\n",
      "    Uninstalling blinker-1.5:\n",
      "      Successfully uninstalled blinker-1.5\n",
      "Successfully installed EasyProcess-1.1 Flask-2.3.2 Werkzeug-2.3.6 blinker-1.6.2 entrypoint2-1.1 itsdangerous-2.1.2 mouseinfo-0.1.3 mss-9.0.1 pyautogui-0.9.54 pygetwindow-0.0.9 pymsgbox-1.0.9 pyperclip-1.8.2 pyrect-0.2.0 pyscreenshot-3.1 pyscreeze-0.1.29 pytweening-1.0.7 pywhatkit-5.4 wikipedia-1.4.0\n"
     ]
    }
   ],
   "source": [
    "!pip install pywhatkit   "
   ]
  },
  {
   "cell_type": "code",
   "execution_count": 2,
   "id": "1d7b5c77",
   "metadata": {},
   "outputs": [],
   "source": [
    "import pywhatkit"
   ]
  },
  {
   "cell_type": "markdown",
   "id": "88f02e17",
   "metadata": {},
   "source": [
    "## Automated messaged is sent on given time."
   ]
  },
  {
   "cell_type": "code",
   "execution_count": 4,
   "id": "039154a4",
   "metadata": {},
   "outputs": [
    {
     "name": "stdout",
     "output_type": "stream",
     "text": [
      "In 17 Seconds WhatsApp will open and after 15 Seconds Message will be Delivered!\n"
     ]
    }
   ],
   "source": [
    "pywhatkit.sendwhatmsg('+919998954560', 'hello', 12,13)   "
   ]
  },
  {
   "cell_type": "markdown",
   "id": "f03e0156",
   "metadata": {},
   "source": [
    "## Automatic fetch 1st video from youtube and play it."
   ]
  },
  {
   "cell_type": "code",
   "execution_count": 5,
   "id": "0d43f3d4",
   "metadata": {},
   "outputs": [
    {
     "data": {
      "text/plain": [
       "'https://www.youtube.com/watch?v=QXIC4BqcdoE\\\\\\\\u0026pp=YAHIAQHwAQG6AwIYAg%3D%3D'"
      ]
     },
     "execution_count": 5,
     "metadata": {},
     "output_type": "execute_result"
    }
   ],
   "source": [
    "pywhatkit.playonyt('Elon Musk')   "
   ]
  },
  {
   "cell_type": "markdown",
   "id": "db16ffc3",
   "metadata": {},
   "source": [
    "## Searching anything on google automaticially"
   ]
  },
  {
   "cell_type": "code",
   "execution_count": 7,
   "id": "842d2d79",
   "metadata": {},
   "outputs": [],
   "source": [
    "pywhatkit.search(\"Python\")"
   ]
  },
  {
   "cell_type": "code",
   "execution_count": null,
   "id": "07b4cca0",
   "metadata": {},
   "outputs": [],
   "source": []
  }
 ],
 "metadata": {
  "kernelspec": {
   "display_name": "Python 3 (ipykernel)",
   "language": "python",
   "name": "python3"
  },
  "language_info": {
   "codemirror_mode": {
    "name": "ipython",
    "version": 3
   },
   "file_extension": ".py",
   "mimetype": "text/x-python",
   "name": "python",
   "nbconvert_exporter": "python",
   "pygments_lexer": "ipython3",
   "version": "3.10.5"
  }
 },
 "nbformat": 4,
 "nbformat_minor": 5
}
