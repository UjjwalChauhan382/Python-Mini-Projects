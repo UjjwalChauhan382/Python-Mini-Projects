{
 "cells": [
  {
   "cell_type": "code",
   "execution_count": 23,
   "id": "b5fd5586",
   "metadata": {},
   "outputs": [],
   "source": [
    "import time"
   ]
  },
  {
   "cell_type": "code",
   "execution_count": 24,
   "id": "ccce4798",
   "metadata": {},
   "outputs": [],
   "source": [
    "from tkinter import *"
   ]
  },
  {
   "cell_type": "code",
   "execution_count": 25,
   "id": "9f211bc8",
   "metadata": {},
   "outputs": [
    {
     "data": {
      "text/plain": [
       "''"
      ]
     },
     "execution_count": 25,
     "metadata": {},
     "output_type": "execute_result"
    }
   ],
   "source": [
    "canvas = Tk()\n",
    "canvas.title('A Beautiful Clock')\n",
    "canvas.geometry('100x100')\n"
   ]
  },
  {
   "cell_type": "code",
   "execution_count": 26,
   "id": "3ea80eb6",
   "metadata": {},
   "outputs": [],
   "source": [
    "label = Label(canvas, font = ('Helvetica', 20, 'bold'), bg = 'red', fg = 'white')\n",
    "label.grid(row = 10, column = 10)"
   ]
  },
  {
   "cell_type": "code",
   "execution_count": 27,
   "id": "8ed64565",
   "metadata": {},
   "outputs": [],
   "source": [
    "def clock():\n",
    "    inp = time.strftime('%H:%M:%S')\n",
    "    label.config(text = inp)\n",
    "    label.after(1000, clock)"
   ]
  },
  {
   "cell_type": "code",
   "execution_count": 28,
   "id": "c8a16a75",
   "metadata": {},
   "outputs": [],
   "source": [
    "clock()"
   ]
  },
  {
   "cell_type": "code",
   "execution_count": 29,
   "id": "de633c30",
   "metadata": {},
   "outputs": [],
   "source": [
    "canvas.mainloop()"
   ]
  },
  {
   "cell_type": "code",
   "execution_count": null,
   "id": "abac8180",
   "metadata": {},
   "outputs": [],
   "source": []
  }
 ],
 "metadata": {
  "kernelspec": {
   "display_name": "Python 3 (ipykernel)",
   "language": "python",
   "name": "python3"
  },
  "language_info": {
   "codemirror_mode": {
    "name": "ipython",
    "version": 3
   },
   "file_extension": ".py",
   "mimetype": "text/x-python",
   "name": "python",
   "nbconvert_exporter": "python",
   "pygments_lexer": "ipython3",
   "version": "3.10.5"
  }
 },
 "nbformat": 4,
 "nbformat_minor": 5
}
